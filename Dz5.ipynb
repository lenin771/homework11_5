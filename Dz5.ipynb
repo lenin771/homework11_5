{
 "cells": [
  {
   "cell_type": "markdown",
   "id": "5d7c38bb",
   "metadata": {},
   "source": [
    "Задача 1"
   ]
  },
  {
   "cell_type": "markdown",
   "id": "44ea4c20",
   "metadata": {},
   "source": [
    "Вы провели эксперимент c упрощением формы заказа в магазине Утконос и получили результаты по метрике конверсий в покупку. Выберите метод оценки и оцените есть ли стат.значимые различия между конверсиями в двух группах при alpha = 5%. Дайте краткие рекомендации команде .Результаты: 1)Число юзеров в группах , которые заходили на сайт в период эксперимента: n1 = 15550 и n2 = 15550 . 2) Число юзеров в группах , которые совершили хотя бы одну покупку за период эксперимента: n1 = 164 и n2 = 228 3) Конверсии : conv1 = 1.05% conv2 = 1.47% ."
   ]
  },
  {
   "cell_type": "code",
   "execution_count": 3,
   "id": "f87b47be",
   "metadata": {},
   "outputs": [
    {
     "name": "stdout",
     "output_type": "stream",
     "text": [
      "conv1 = 0.010546623794212218\n",
      "conv2 = 0.014662379421221864\n",
      "p_value = 0.001141715077067056\n"
     ]
    }
   ],
   "source": [
    "import numpy as np\n",
    "import scipy.stats as stats\n",
    "\n",
    "n1 = 15550\n",
    "n2 = 15550\n",
    "conv1 = 164 / n1\n",
    "conv2 = 228 / n2\n",
    "p_hat = (conv1 * n1 + conv2 * n2) / (n1 + n2)\n",
    "se = np.sqrt(p_hat * (1 - p_hat) * (1 / n1 + 1 / n2))\n",
    "z_stat = (conv1 - conv2) / se\n",
    "p_value = stats.norm.sf(abs(z_stat)) * 2\n",
    "print('conv1 =', conv1)\n",
    "print('conv2 =', conv2)\n",
    "print('p_value =', p_value)"
   ]
  },
  {
   "cell_type": "markdown",
   "id": "8336f7ed",
   "metadata": {},
   "source": [
    "Так как p-value = 0.001 < 0.05, то мы отвергаем нулевую гипотезу о том, что конверсии в двух группах не отличаются. Следовательно, можно сделать вывод, что изменение формы заказа в магазине Утконос привело к увеличению конверсии в покупку."
   ]
  },
  {
   "cell_type": "markdown",
   "id": "84a961f7",
   "metadata": {},
   "source": [
    "Задача 2"
   ]
  },
  {
   "cell_type": "markdown",
   "id": "0ab4dd48",
   "metadata": {},
   "source": [
    "Сравниваем метрику конверсия в покупку. Размер выборки - 10000 элементов в каждой группе . Какой статистический критерий тут лучше всего подойдёт и почему ?"
   ]
  },
  {
   "cell_type": "markdown",
   "id": "fe6df03e",
   "metadata": {},
   "source": [
    "Для сравнения метрики конверсии в покупку с размером выборки 10000 элементов в каждой группе, лучше всего подойдет Z-тест. Z-тест используется для сравнения двух долей и позволяет оценить статистическую значимость разницы между долями. Этот тест дает достаточно точные результаты, когда выборки достаточно большие."
   ]
  }
 ],
 "metadata": {
  "kernelspec": {
   "display_name": "Python 3 (ipykernel)",
   "language": "python",
   "name": "python3"
  },
  "language_info": {
   "codemirror_mode": {
    "name": "ipython",
    "version": 3
   },
   "file_extension": ".py",
   "mimetype": "text/x-python",
   "name": "python",
   "nbconvert_exporter": "python",
   "pygments_lexer": "ipython3",
   "version": "3.7.9"
  }
 },
 "nbformat": 4,
 "nbformat_minor": 5
}
